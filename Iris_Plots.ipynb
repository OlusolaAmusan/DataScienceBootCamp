{
  "nbformat": 4,
  "nbformat_minor": 0,
  "metadata": {
    "colab": {
      "name": "Iris Plots.ipynb",
      "provenance": [],
      "collapsed_sections": [],
      "include_colab_link": true
    },
    "kernelspec": {
      "name": "python3",
      "display_name": "Python 3"
    }
  },
  "cells": [
    {
      "cell_type": "markdown",
      "metadata": {
        "id": "view-in-github",
        "colab_type": "text"
      },
      "source": [
        "<a href=\"https://colab.research.google.com/github/OlusolaAmusan/DataScienceBootCamp/blob/master/Iris_Plots.ipynb\" target=\"_parent\"><img src=\"https://colab.research.google.com/assets/colab-badge.svg\" alt=\"Open In Colab\"/></a>"
      ]
    },
    {
      "cell_type": "markdown",
      "metadata": {
        "id": "-b7ZNMyJX4qI"
      },
      "source": [
        "# Import"
      ]
    },
    {
      "cell_type": "code",
      "metadata": {
        "id": "bCnPNSzU6lGJ"
      },
      "source": [
        "#import libraries\n",
        "import pandas as pd\n",
        "from mpl_toolkits.mplot3d import Axes3D\n",
        "import matplotlib.pyplot as plt\n",
        "import numpy as np\n",
        "from sklearn.linear_model import LogisticRegression,LinearRegression,Perceptron\n",
        "from sklearn.metrics import mean_squared_error, r2_score\n",
        "import math\n",
        "from matplotlib import cm\n",
        "from matplotlib.ticker import LinearLocator, FormatStrFormatter\n",
        "from matplotlib.colors import ListedColormap, LinearSegmentedColormap\n",
        "pd.options.display.max_rows=12"
      ],
      "execution_count": null,
      "outputs": []
    },
    {
      "cell_type": "markdown",
      "metadata": {
        "id": "OFtQcYwKJShh"
      },
      "source": [
        "# Helper Functions"
      ]
    },
    {
      "cell_type": "code",
      "metadata": {
        "id": "yfo0wVEF34vi"
      },
      "source": [
        "def plot_hyperplane(ax1,c,color,clf,xmin,xmax):\n",
        "    coef = clf.coef_\n",
        "    intercept = clf.intercept_\n",
        "    def line(x0):\n",
        "        return (-(x0 * coef[c, 0]) - intercept[c]) / coef[c, 1]\n",
        "    ax1.plot([xmin, xmax], [line(xmin), line(xmax)],\n",
        "                ls=\"--\", color=color)"
      ],
      "execution_count": null,
      "outputs": []
    },
    {
      "cell_type": "code",
      "metadata": {
        "id": "H1hBIzEaCY4h"
      },
      "source": [
        "def decision_point(clf):\n",
        "    coef = clf.coef_\n",
        "    intercept = clf.intercept_\n",
        "    return (-intercept[0])/coef[0,0]"
      ],
      "execution_count": null,
      "outputs": []
    },
    {
      "cell_type": "markdown",
      "metadata": {
        "id": "JsfkNkjxJXLF"
      },
      "source": [
        "# Data loading"
      ]
    },
    {
      "cell_type": "code",
      "metadata": {
        "id": "9lWAin_C6C4m",
        "outputId": "cc3323ea-0806-4a67-cbc9-e2aad3beec8d",
        "colab": {
          "base_uri": "https://localhost:8080/",
          "height": 35
        }
      },
      "source": [
        "#download the data\n",
        "!git clone https://github.com/sopolat/HomeworkFiles.git"
      ],
      "execution_count": null,
      "outputs": [
        {
          "output_type": "stream",
          "text": [
            "fatal: destination path 'HomeworkFiles' already exists and is not an empty directory.\n"
          ],
          "name": "stdout"
        }
      ]
    },
    {
      "cell_type": "code",
      "metadata": {
        "id": "Eh4Tjfj_6pMc"
      },
      "source": [
        "#load training dataframes\n",
        "sl_c = pd.read_csv(\"/content/HomeworkFiles/iris/train/iris_versicolor_vs_virginica.sl.c.train.csv\")\n",
        "sl_pl = pd.read_csv(\"/content/HomeworkFiles/iris/train/iris_versicolor_vs_virginica.sl.pl.train.csv\")\n",
        "sl_pw_c = pd.read_csv(\"/content/HomeworkFiles/iris/train/iris_versicolor_vs_virginica.sl_pw.c.train.csv\")\n",
        "sl_pw_pl = pd.read_csv(\"/content/HomeworkFiles/iris/train/iris_versicolor_vs_virginica.sl_pw.pl.train.csv\")\n",
        "#load dev set\n",
        "sl_c_d = pd.read_csv(\"/content/HomeworkFiles/iris/tune/iris_versicolor_vs_virginica.sl.c.tune.csv\")\n",
        "sl_pl_d = pd.read_csv(\"/content/HomeworkFiles/iris/tune/iris_versicolor_vs_virginica.sl.pl.tune.csv\")\n",
        "sl_pw_c_d = pd.read_csv(\"/content/HomeworkFiles/iris/tune/iris_versicolor_vs_virginica.sl_pw.c.tune.csv\")\n",
        "sl_pw_pl_d = pd.read_csv(\"/content/HomeworkFiles/iris/tune/iris_versicolor_vs_virginica.sl_pw.pl.tune.csv\")"
      ],
      "execution_count": null,
      "outputs": []
    },
    {
      "cell_type": "code",
      "metadata": {
        "id": "e7qMqcucl_jL"
      },
      "source": [
        "#update class labels\n",
        "sl_c.loc[sl_c[\"iris class\"]==\"Iris-virginica\",\"iris class\"]=1\n",
        "sl_c.loc[sl_c[\"iris class\"]==\"Iris-versicolor\",\"iris class\"]=0\n",
        "sl_c[\"iris class\"]=sl_c[\"iris class\"].astype('int')\n",
        "\n",
        "sl_pw_c.loc[sl_pw_c[\"iris class\"]==\"Iris-virginica\",\"iris class\"]=1\n",
        "sl_pw_c.loc[sl_pw_c[\"iris class\"]==\"Iris-versicolor\",\"iris class\"]=0\n",
        "sl_pw_c[\"iris class\"]=sl_pw_c[\"iris class\"].astype('int')\n",
        "\n",
        "\n",
        "sl_c_d.loc[sl_c_d[\"iris class\"]==\"Iris-virginica\",\"iris class\"]=1\n",
        "sl_c_d.loc[sl_c_d[\"iris class\"]==\"Iris-versicolor\",\"iris class\"]=0\n",
        "sl_c_d[\"iris class\"]=sl_c_d[\"iris class\"].astype('int')\n",
        "\n",
        "sl_pw_c_d.loc[sl_pw_c_d[\"iris class\"]==\"Iris-virginica\",\"iris class\"]=1\n",
        "sl_pw_c_d.loc[sl_pw_c_d[\"iris class\"]==\"Iris-versicolor\",\"iris class\"]=0\n",
        "sl_pw_c_d[\"iris class\"]=sl_pw_c_d[\"iris class\"].astype('int')"
      ],
      "execution_count": null,
      "outputs": []
    },
    {
      "cell_type": "code",
      "metadata": {
        "id": "8QGLLiqLWZYF",
        "outputId": "ecbf7704-90d5-4a56-d6c3-0d25c540cf8e",
        "colab": {
          "base_uri": "https://localhost:8080/",
          "height": 417
        }
      },
      "source": [
        "sl_pw_c"
      ],
      "execution_count": null,
      "outputs": [
        {
          "output_type": "execute_result",
          "data": {
            "text/html": [
              "<div>\n",
              "<style scoped>\n",
              "    .dataframe tbody tr th:only-of-type {\n",
              "        vertical-align: middle;\n",
              "    }\n",
              "\n",
              "    .dataframe tbody tr th {\n",
              "        vertical-align: top;\n",
              "    }\n",
              "\n",
              "    .dataframe thead th {\n",
              "        text-align: right;\n",
              "    }\n",
              "</style>\n",
              "<table border=\"1\" class=\"dataframe\">\n",
              "  <thead>\n",
              "    <tr style=\"text-align: right;\">\n",
              "      <th></th>\n",
              "      <th>sepal length</th>\n",
              "      <th>petal width</th>\n",
              "      <th>iris class</th>\n",
              "    </tr>\n",
              "  </thead>\n",
              "  <tbody>\n",
              "    <tr>\n",
              "      <th>0</th>\n",
              "      <td>6.5</td>\n",
              "      <td>1.8</td>\n",
              "      <td>1</td>\n",
              "    </tr>\n",
              "    <tr>\n",
              "      <th>1</th>\n",
              "      <td>5.9</td>\n",
              "      <td>1.5</td>\n",
              "      <td>0</td>\n",
              "    </tr>\n",
              "    <tr>\n",
              "      <th>2</th>\n",
              "      <td>5.8</td>\n",
              "      <td>1.0</td>\n",
              "      <td>0</td>\n",
              "    </tr>\n",
              "    <tr>\n",
              "      <th>3</th>\n",
              "      <td>5.0</td>\n",
              "      <td>1.0</td>\n",
              "      <td>0</td>\n",
              "    </tr>\n",
              "    <tr>\n",
              "      <th>4</th>\n",
              "      <td>7.1</td>\n",
              "      <td>2.1</td>\n",
              "      <td>1</td>\n",
              "    </tr>\n",
              "    <tr>\n",
              "      <th>...</th>\n",
              "      <td>...</td>\n",
              "      <td>...</td>\n",
              "      <td>...</td>\n",
              "    </tr>\n",
              "    <tr>\n",
              "      <th>45</th>\n",
              "      <td>6.3</td>\n",
              "      <td>1.5</td>\n",
              "      <td>0</td>\n",
              "    </tr>\n",
              "    <tr>\n",
              "      <th>46</th>\n",
              "      <td>5.8</td>\n",
              "      <td>1.2</td>\n",
              "      <td>0</td>\n",
              "    </tr>\n",
              "    <tr>\n",
              "      <th>47</th>\n",
              "      <td>5.8</td>\n",
              "      <td>2.4</td>\n",
              "      <td>1</td>\n",
              "    </tr>\n",
              "    <tr>\n",
              "      <th>48</th>\n",
              "      <td>6.7</td>\n",
              "      <td>2.3</td>\n",
              "      <td>1</td>\n",
              "    </tr>\n",
              "    <tr>\n",
              "      <th>49</th>\n",
              "      <td>5.7</td>\n",
              "      <td>1.0</td>\n",
              "      <td>0</td>\n",
              "    </tr>\n",
              "  </tbody>\n",
              "</table>\n",
              "<p>50 rows × 3 columns</p>\n",
              "</div>"
            ],
            "text/plain": [
              "    sepal length  petal width  iris class\n",
              "0            6.5          1.8           1\n",
              "1            5.9          1.5           0\n",
              "2            5.8          1.0           0\n",
              "3            5.0          1.0           0\n",
              "4            7.1          2.1           1\n",
              "..           ...          ...         ...\n",
              "45           6.3          1.5           0\n",
              "46           5.8          1.2           0\n",
              "47           5.8          2.4           1\n",
              "48           6.7          2.3           1\n",
              "49           5.7          1.0           0\n",
              "\n",
              "[50 rows x 3 columns]"
            ]
          },
          "metadata": {
            "tags": []
          },
          "execution_count": 30
        }
      ]
    }
  ]
}